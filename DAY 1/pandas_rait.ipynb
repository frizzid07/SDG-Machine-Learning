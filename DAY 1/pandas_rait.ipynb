{
  "nbformat": 4,
  "nbformat_minor": 0,
  "metadata": {
    "colab": {
      "name": "pandas-rait.ipynb",
      "provenance": [],
      "collapsed_sections": []
    },
    "kernelspec": {
      "name": "python3",
      "display_name": "Python 3"
    }
  },
  "cells": [
    {
      "cell_type": "markdown",
      "metadata": {
        "id": "__uXsj-QRZ9O",
        "colab_type": "text"
      },
      "source": [
        "## Intro to Pandas\n",
        "\n",
        "**The topics we will cover in this notebook are :**\n",
        "\n",
        "1. Pandas Series\n",
        "2. Pandas DataFrame \n",
        "3. Read CSV file \n",
        "4. Access Data row-wise and column-wise\n",
        "5. DataFrame Manipulation\n",
        "6. Statistics with Pandas\n",
        "7. Handling Missing Data\n",
        "\n"
      ]
    },
    {
      "cell_type": "code",
      "metadata": {
        "id": "0TCIIUFGRc8z",
        "colab_type": "code",
        "colab": {}
      },
      "source": [
        "import pandas as pd \n",
        "import numpy as np \n"
      ],
      "execution_count": 0,
      "outputs": []
    },
    {
      "cell_type": "code",
      "metadata": {
        "id": "DH_eJOmJTdp9",
        "colab_type": "code",
        "colab": {}
      },
      "source": [
        "roll=['16CE1021','16CE1049','16CE2003']\n",
        "name=['Niraj','Bhushan','Shubham']"
      ],
      "execution_count": 0,
      "outputs": []
    },
    {
      "cell_type": "markdown",
      "metadata": {
        "id": "TAO5W5QqT8J9",
        "colab_type": "text"
      },
      "source": [
        "* Pandas Series\n",
        "\n",
        "      Syntax: \n",
        "      pd.Series(data,index) -> returns Series object "
      ]
    },
    {
      "cell_type": "code",
      "metadata": {
        "id": "JOYwWi-IUM2r",
        "colab_type": "code",
        "colab": {}
      },
      "source": [
        ""
      ],
      "execution_count": 0,
      "outputs": []
    },
    {
      "cell_type": "code",
      "metadata": {
        "id": "2v3VZt2mW-Wa",
        "colab_type": "code",
        "colab": {}
      },
      "source": [
        ""
      ],
      "execution_count": 0,
      "outputs": []
    },
    {
      "cell_type": "code",
      "metadata": {
        "id": "KoxmNepEW-bP",
        "colab_type": "code",
        "colab": {}
      },
      "source": [
        ""
      ],
      "execution_count": 0,
      "outputs": []
    },
    {
      "cell_type": "code",
      "metadata": {
        "id": "Gm72sScbW-hE",
        "colab_type": "code",
        "colab": {}
      },
      "source": [
        ""
      ],
      "execution_count": 0,
      "outputs": []
    },
    {
      "cell_type": "markdown",
      "metadata": {
        "id": "ypKJd7rDW_ld",
        "colab_type": "text"
      },
      "source": [
        "* Pandas DataFrame \n"
      ]
    },
    {
      "cell_type": "code",
      "metadata": {
        "id": "i8xjQvzTXKwO",
        "colab_type": "code",
        "colab": {}
      },
      "source": [
        "columns=['W','X','Y','Z']\n",
        "\n",
        "index=[\"A\",\"B\",\"C\",\"D\",\"E\"]"
      ],
      "execution_count": 0,
      "outputs": []
    },
    {
      "cell_type": "code",
      "metadata": {
        "id": "SQN0s-gkXPTN",
        "colab_type": "code",
        "colab": {}
      },
      "source": [
        "from numpy.random import randint \n",
        "np.random.seed(42)\n"
      ],
      "execution_count": 0,
      "outputs": []
    },
    {
      "cell_type": "code",
      "metadata": {
        "id": "45KU9axDXUd-",
        "colab_type": "code",
        "colab": {}
      },
      "source": [
        ""
      ],
      "execution_count": 0,
      "outputs": []
    },
    {
      "cell_type": "markdown",
      "metadata": {
        "id": "vHxquKZJXV_m",
        "colab_type": "text"
      },
      "source": [
        "* Defining a DataFrame \n",
        "\n",
        "      Syntax:\n",
        "      pd.DataFrame(data,columns,index) -> returns Pandas DataFrame "
      ]
    },
    {
      "cell_type": "code",
      "metadata": {
        "id": "rHXJwNuGXmnr",
        "colab_type": "code",
        "colab": {}
      },
      "source": [
        ""
      ],
      "execution_count": 0,
      "outputs": []
    },
    {
      "cell_type": "code",
      "metadata": {
        "id": "wQMeWjpsX6fW",
        "colab_type": "code",
        "colab": {}
      },
      "source": [
        ""
      ],
      "execution_count": 0,
      "outputs": []
    },
    {
      "cell_type": "markdown",
      "metadata": {
        "id": "_qfkhdP9X7Ed",
        "colab_type": "text"
      },
      "source": [
        "* Reading a Data Column-wise\n",
        "      Syntax:\n",
        "      df[list of column name ] (list required) -> dataframe "
      ]
    },
    {
      "cell_type": "code",
      "metadata": {
        "id": "GFxdSq9HYsap",
        "colab_type": "code",
        "colab": {}
      },
      "source": [
        "cols=['W','X']"
      ],
      "execution_count": 0,
      "outputs": []
    },
    {
      "cell_type": "code",
      "metadata": {
        "id": "bHhXmDclZhQF",
        "colab_type": "code",
        "colab": {}
      },
      "source": [
        ""
      ],
      "execution_count": 0,
      "outputs": []
    },
    {
      "cell_type": "code",
      "metadata": {
        "id": "KbdMfK8fpve0",
        "colab_type": "code",
        "colab": {}
      },
      "source": [
        ""
      ],
      "execution_count": 0,
      "outputs": []
    },
    {
      "cell_type": "markdown",
      "metadata": {
        "id": "Ul_QmDT4ZjQu",
        "colab_type": "text"
      },
      "source": [
        "* create new column in existing dataFrame"
      ]
    },
    {
      "cell_type": "code",
      "metadata": {
        "id": "XMnXScE7ZoVc",
        "colab_type": "code",
        "colab": {}
      },
      "source": [
        ""
      ],
      "execution_count": 0,
      "outputs": []
    },
    {
      "cell_type": "markdown",
      "metadata": {
        "id": "N53IQ5O5ZoxN",
        "colab_type": "text"
      },
      "source": [
        "* remove a column \n",
        "      Syntax:\n",
        "      using df.drop(list of column names,axis=1) \n",
        "\n",
        "      note: changes are temporary"
      ]
    },
    {
      "cell_type": "code",
      "metadata": {
        "id": "jRnK8g9vaGSe",
        "colab_type": "code",
        "colab": {}
      },
      "source": [
        ""
      ],
      "execution_count": 0,
      "outputs": []
    },
    {
      "cell_type": "code",
      "metadata": {
        "id": "MEPrXwpfaGsF",
        "colab_type": "code",
        "colab": {}
      },
      "source": [
        ""
      ],
      "execution_count": 0,
      "outputs": []
    },
    {
      "cell_type": "code",
      "metadata": {
        "id": "CA_HY-3jaGyj",
        "colab_type": "code",
        "colab": {}
      },
      "source": [
        ""
      ],
      "execution_count": 0,
      "outputs": []
    },
    {
      "cell_type": "code",
      "metadata": {
        "id": "QwVGaILfaG6j",
        "colab_type": "code",
        "colab": {}
      },
      "source": [
        ""
      ],
      "execution_count": 0,
      "outputs": []
    },
    {
      "cell_type": "markdown",
      "metadata": {
        "id": "-XYsuq9vaHRd",
        "colab_type": "text"
      },
      "source": [
        "Dealing with Row\n",
        "\n",
        "*  df.loc[list of rows]\n",
        "*  df.iloc[row no.]"
      ]
    },
    {
      "cell_type": "code",
      "metadata": {
        "id": "tL3-B2YZaNDY",
        "colab_type": "code",
        "colab": {}
      },
      "source": [
        ""
      ],
      "execution_count": 0,
      "outputs": []
    },
    {
      "cell_type": "code",
      "metadata": {
        "id": "i-GRflVTbSin",
        "colab_type": "code",
        "colab": {}
      },
      "source": [
        ""
      ],
      "execution_count": 0,
      "outputs": []
    },
    {
      "cell_type": "markdown",
      "metadata": {
        "id": "LMYuela7b1eD",
        "colab_type": "text"
      },
      "source": [
        "* remove row-wise\n",
        "\n",
        "      Syntax:\n",
        "            using df.drop(list of index names,axis=0) \n",
        "\n",
        "            note: changes are temporary"
      ]
    },
    {
      "cell_type": "code",
      "metadata": {
        "id": "hdqDYBGJcBOK",
        "colab_type": "code",
        "colab": {}
      },
      "source": [
        ""
      ],
      "execution_count": 0,
      "outputs": []
    },
    {
      "cell_type": "code",
      "metadata": {
        "id": "1IMWHYH0cEAT",
        "colab_type": "code",
        "colab": {}
      },
      "source": [
        ""
      ],
      "execution_count": 0,
      "outputs": []
    },
    {
      "cell_type": "markdown",
      "metadata": {
        "id": "n8KnM1kecEZM",
        "colab_type": "text"
      },
      "source": [
        "Select a subset of row and column \n",
        "* df.loc[[list of rows],[list of columns]]\n",
        "* df.iloc[ : , : ]"
      ]
    },
    {
      "cell_type": "code",
      "metadata": {
        "id": "YGJL8-YicPU3",
        "colab_type": "code",
        "colab": {}
      },
      "source": [
        ""
      ],
      "execution_count": 0,
      "outputs": []
    },
    {
      "cell_type": "code",
      "metadata": {
        "id": "JMWRkeT2cRBU",
        "colab_type": "code",
        "colab": {}
      },
      "source": [
        ""
      ],
      "execution_count": 0,
      "outputs": []
    },
    {
      "cell_type": "markdown",
      "metadata": {
        "id": "WlZ1vwgZcWSD",
        "colab_type": "text"
      },
      "source": [
        "Condtional Dataframe\n",
        "\n",
        "* df[condition]"
      ]
    },
    {
      "cell_type": "code",
      "metadata": {
        "id": "qfJxm4xecaL5",
        "colab_type": "code",
        "colab": {}
      },
      "source": [
        ""
      ],
      "execution_count": 0,
      "outputs": []
    },
    {
      "cell_type": "code",
      "metadata": {
        "id": "SEJ54k28cpXj",
        "colab_type": "code",
        "colab": {}
      },
      "source": [
        ""
      ],
      "execution_count": 0,
      "outputs": []
    },
    {
      "cell_type": "code",
      "metadata": {
        "id": "qwcOp-ZOcpaI",
        "colab_type": "code",
        "colab": {}
      },
      "source": [
        ""
      ],
      "execution_count": 0,
      "outputs": []
    },
    {
      "cell_type": "code",
      "metadata": {
        "id": "6rl4hfXjcpcl",
        "colab_type": "code",
        "colab": {}
      },
      "source": [
        ""
      ],
      "execution_count": 0,
      "outputs": []
    },
    {
      "cell_type": "code",
      "metadata": {
        "id": "0eKLDVAScrG7",
        "colab_type": "code",
        "colab": {}
      },
      "source": [
        ""
      ],
      "execution_count": 0,
      "outputs": []
    },
    {
      "cell_type": "markdown",
      "metadata": {
        "id": "7hADWk-Ncs0k",
        "colab_type": "text"
      },
      "source": [
        "\n",
        "* Index Manipulation"
      ]
    },
    {
      "cell_type": "code",
      "metadata": {
        "id": "vlcf50vTcw0i",
        "colab_type": "code",
        "colab": {}
      },
      "source": [
        "df.reset_index()"
      ],
      "execution_count": 0,
      "outputs": []
    },
    {
      "cell_type": "code",
      "metadata": {
        "id": "VP1rY01bc02j",
        "colab_type": "code",
        "colab": {}
      },
      "source": [
        "new_ind=[1,2,3,4,5]\n",
        "df['new_index']=new_ind"
      ],
      "execution_count": 0,
      "outputs": []
    },
    {
      "cell_type": "code",
      "metadata": {
        "id": "K-cZ72DGc2tj",
        "colab_type": "code",
        "colab": {}
      },
      "source": [
        ""
      ],
      "execution_count": 0,
      "outputs": []
    },
    {
      "cell_type": "code",
      "metadata": {
        "id": "KajshFWPc5EM",
        "colab_type": "code",
        "colab": {}
      },
      "source": [
        "df.set_index('new_index')"
      ],
      "execution_count": 0,
      "outputs": []
    },
    {
      "cell_type": "markdown",
      "metadata": {
        "id": "pLreOOi5c7QU",
        "colab_type": "text"
      },
      "source": [
        "Statistical function in Pandas\n"
      ]
    },
    {
      "cell_type": "code",
      "metadata": {
        "id": "WKMM8WqedDxY",
        "colab_type": "code",
        "colab": {}
      },
      "source": [
        ""
      ],
      "execution_count": 0,
      "outputs": []
    },
    {
      "cell_type": "code",
      "metadata": {
        "id": "4eRCo2kOdEmb",
        "colab_type": "code",
        "colab": {}
      },
      "source": [
        ""
      ],
      "execution_count": 0,
      "outputs": []
    },
    {
      "cell_type": "code",
      "metadata": {
        "id": "-4SRZTGJdEo1",
        "colab_type": "code",
        "colab": {}
      },
      "source": [
        ""
      ],
      "execution_count": 0,
      "outputs": []
    },
    {
      "cell_type": "markdown",
      "metadata": {
        "id": "yQdDYmQFdFnt",
        "colab_type": "text"
      },
      "source": [
        "**Handling Missing data** (Nan)\n",
        "\n",
        "*  leave it as missing\n",
        "*  Remove missing data  - dropna()\n",
        "*  Fill missing data by method  - fillna(value)"
      ]
    },
    {
      "cell_type": "code",
      "metadata": {
        "id": "5b_H4xkpdIkj",
        "colab_type": "code",
        "colab": {}
      },
      "source": [
        "df= pd.DataFrame(data=[[1,2,np.nan,4],[5,np.nan,np.nan,8],[10,20,30,50]],columns=['A','B','C','D'])"
      ],
      "execution_count": 0,
      "outputs": []
    },
    {
      "cell_type": "code",
      "metadata": {
        "id": "_EPrKp7cdPD8",
        "colab_type": "code",
        "colab": {}
      },
      "source": [
        "df"
      ],
      "execution_count": 0,
      "outputs": []
    },
    {
      "cell_type": "code",
      "metadata": {
        "id": "_fqigXREdiZU",
        "colab_type": "code",
        "colab": {}
      },
      "source": [
        ""
      ],
      "execution_count": 0,
      "outputs": []
    },
    {
      "cell_type": "code",
      "metadata": {
        "id": "oJ7uOGAzdiby",
        "colab_type": "code",
        "colab": {}
      },
      "source": [
        ""
      ],
      "execution_count": 0,
      "outputs": []
    },
    {
      "cell_type": "code",
      "metadata": {
        "id": "SODVzkjqdid9",
        "colab_type": "code",
        "colab": {}
      },
      "source": [
        ""
      ],
      "execution_count": 0,
      "outputs": []
    },
    {
      "cell_type": "code",
      "metadata": {
        "id": "qsY_lNE_dijY",
        "colab_type": "code",
        "colab": {}
      },
      "source": [
        ""
      ],
      "execution_count": 0,
      "outputs": []
    }
  ]
}