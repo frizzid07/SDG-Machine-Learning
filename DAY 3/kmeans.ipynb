{
  "nbformat": 4,
  "nbformat_minor": 0,
  "metadata": {
    "colab": {
      "name": "kmeans.ipynb",
      "provenance": [],
      "collapsed_sections": []
    },
    "kernelspec": {
      "name": "python3",
      "display_name": "Python 3"
    }
  },
  "cells": [
    {
      "cell_type": "code",
      "metadata": {
        "id": "JwA-sVhuR4iB",
        "colab_type": "code",
        "colab": {}
      },
      "source": [
        "import numpy as np\n",
        "import pandas as pd\n",
        "import matplotlib.pyplot as plt\n",
        "from sklearn.preprocessing import LabelEncoder\n",
        "from sklearn.cluster import KMeans"
      ],
      "execution_count": 0,
      "outputs": []
    },
    {
      "cell_type": "code",
      "metadata": {
        "id": "8hja-1dASE3k",
        "colab_type": "code",
        "outputId": "00e5165e-4338-47f3-efcd-19bcb050dc36",
        "colab": {
          "base_uri": "https://localhost:8080/",
          "height": 204
        }
      },
      "source": [
        "df = pd.read_csv('Mall_Customers.csv')\n",
        "df.head()"
      ],
      "execution_count": 0,
      "outputs": [
        {
          "output_type": "execute_result",
          "data": {
            "text/html": [
              "<div>\n",
              "<style scoped>\n",
              "    .dataframe tbody tr th:only-of-type {\n",
              "        vertical-align: middle;\n",
              "    }\n",
              "\n",
              "    .dataframe tbody tr th {\n",
              "        vertical-align: top;\n",
              "    }\n",
              "\n",
              "    .dataframe thead th {\n",
              "        text-align: right;\n",
              "    }\n",
              "</style>\n",
              "<table border=\"1\" class=\"dataframe\">\n",
              "  <thead>\n",
              "    <tr style=\"text-align: right;\">\n",
              "      <th></th>\n",
              "      <th>CustomerID</th>\n",
              "      <th>Gender</th>\n",
              "      <th>Age</th>\n",
              "      <th>Annual Income (k$)</th>\n",
              "      <th>Spending Score (1-100)</th>\n",
              "    </tr>\n",
              "  </thead>\n",
              "  <tbody>\n",
              "    <tr>\n",
              "      <th>0</th>\n",
              "      <td>1</td>\n",
              "      <td>Male</td>\n",
              "      <td>19</td>\n",
              "      <td>15</td>\n",
              "      <td>39</td>\n",
              "    </tr>\n",
              "    <tr>\n",
              "      <th>1</th>\n",
              "      <td>2</td>\n",
              "      <td>Male</td>\n",
              "      <td>21</td>\n",
              "      <td>15</td>\n",
              "      <td>81</td>\n",
              "    </tr>\n",
              "    <tr>\n",
              "      <th>2</th>\n",
              "      <td>3</td>\n",
              "      <td>Female</td>\n",
              "      <td>20</td>\n",
              "      <td>16</td>\n",
              "      <td>6</td>\n",
              "    </tr>\n",
              "    <tr>\n",
              "      <th>3</th>\n",
              "      <td>4</td>\n",
              "      <td>Female</td>\n",
              "      <td>23</td>\n",
              "      <td>16</td>\n",
              "      <td>77</td>\n",
              "    </tr>\n",
              "    <tr>\n",
              "      <th>4</th>\n",
              "      <td>5</td>\n",
              "      <td>Female</td>\n",
              "      <td>31</td>\n",
              "      <td>17</td>\n",
              "      <td>40</td>\n",
              "    </tr>\n",
              "  </tbody>\n",
              "</table>\n",
              "</div>"
            ],
            "text/plain": [
              "   CustomerID  Gender  Age  Annual Income (k$)  Spending Score (1-100)\n",
              "0           1    Male   19                  15                      39\n",
              "1           2    Male   21                  15                      81\n",
              "2           3  Female   20                  16                       6\n",
              "3           4  Female   23                  16                      77\n",
              "4           5  Female   31                  17                      40"
            ]
          },
          "metadata": {
            "tags": []
          },
          "execution_count": 5
        }
      ]
    },
    {
      "cell_type": "code",
      "metadata": {
        "id": "Ot4cPQq8SKbU",
        "colab_type": "code",
        "outputId": "f7376a4d-9f31-49b0-b7c2-23bda5627818",
        "colab": {
          "base_uri": "https://localhost:8080/",
          "height": 204
        }
      },
      "source": [
        "le = LabelEncoder()\n",
        "df['Gender'] = le.fit_transform(df['Gender'])\n",
        "df.head()"
      ],
      "execution_count": 0,
      "outputs": [
        {
          "output_type": "execute_result",
          "data": {
            "text/html": [
              "<div>\n",
              "<style scoped>\n",
              "    .dataframe tbody tr th:only-of-type {\n",
              "        vertical-align: middle;\n",
              "    }\n",
              "\n",
              "    .dataframe tbody tr th {\n",
              "        vertical-align: top;\n",
              "    }\n",
              "\n",
              "    .dataframe thead th {\n",
              "        text-align: right;\n",
              "    }\n",
              "</style>\n",
              "<table border=\"1\" class=\"dataframe\">\n",
              "  <thead>\n",
              "    <tr style=\"text-align: right;\">\n",
              "      <th></th>\n",
              "      <th>CustomerID</th>\n",
              "      <th>Gender</th>\n",
              "      <th>Age</th>\n",
              "      <th>Annual Income (k$)</th>\n",
              "      <th>Spending Score (1-100)</th>\n",
              "    </tr>\n",
              "  </thead>\n",
              "  <tbody>\n",
              "    <tr>\n",
              "      <th>0</th>\n",
              "      <td>1</td>\n",
              "      <td>1</td>\n",
              "      <td>19</td>\n",
              "      <td>15</td>\n",
              "      <td>39</td>\n",
              "    </tr>\n",
              "    <tr>\n",
              "      <th>1</th>\n",
              "      <td>2</td>\n",
              "      <td>1</td>\n",
              "      <td>21</td>\n",
              "      <td>15</td>\n",
              "      <td>81</td>\n",
              "    </tr>\n",
              "    <tr>\n",
              "      <th>2</th>\n",
              "      <td>3</td>\n",
              "      <td>0</td>\n",
              "      <td>20</td>\n",
              "      <td>16</td>\n",
              "      <td>6</td>\n",
              "    </tr>\n",
              "    <tr>\n",
              "      <th>3</th>\n",
              "      <td>4</td>\n",
              "      <td>0</td>\n",
              "      <td>23</td>\n",
              "      <td>16</td>\n",
              "      <td>77</td>\n",
              "    </tr>\n",
              "    <tr>\n",
              "      <th>4</th>\n",
              "      <td>5</td>\n",
              "      <td>0</td>\n",
              "      <td>31</td>\n",
              "      <td>17</td>\n",
              "      <td>40</td>\n",
              "    </tr>\n",
              "  </tbody>\n",
              "</table>\n",
              "</div>"
            ],
            "text/plain": [
              "   CustomerID  Gender  Age  Annual Income (k$)  Spending Score (1-100)\n",
              "0           1       1   19                  15                      39\n",
              "1           2       1   21                  15                      81\n",
              "2           3       0   20                  16                       6\n",
              "3           4       0   23                  16                      77\n",
              "4           5       0   31                  17                      40"
            ]
          },
          "metadata": {
            "tags": []
          },
          "execution_count": 6
        }
      ]
    },
    {
      "cell_type": "code",
      "metadata": {
        "id": "jDXk1CCQS2Yj",
        "colab_type": "code",
        "outputId": "43024bca-244e-4210-d470-8b6aac05ca3b",
        "colab": {
          "base_uri": "https://localhost:8080/",
          "height": 1000
        }
      },
      "source": [
        "X = df.iloc[:, 3:].values\n",
        "X"
      ],
      "execution_count": 0,
      "outputs": [
        {
          "output_type": "execute_result",
          "data": {
            "text/plain": [
              "array([[ 15,  39],\n",
              "       [ 15,  81],\n",
              "       [ 16,   6],\n",
              "       [ 16,  77],\n",
              "       [ 17,  40],\n",
              "       [ 17,  76],\n",
              "       [ 18,   6],\n",
              "       [ 18,  94],\n",
              "       [ 19,   3],\n",
              "       [ 19,  72],\n",
              "       [ 19,  14],\n",
              "       [ 19,  99],\n",
              "       [ 20,  15],\n",
              "       [ 20,  77],\n",
              "       [ 20,  13],\n",
              "       [ 20,  79],\n",
              "       [ 21,  35],\n",
              "       [ 21,  66],\n",
              "       [ 23,  29],\n",
              "       [ 23,  98],\n",
              "       [ 24,  35],\n",
              "       [ 24,  73],\n",
              "       [ 25,   5],\n",
              "       [ 25,  73],\n",
              "       [ 28,  14],\n",
              "       [ 28,  82],\n",
              "       [ 28,  32],\n",
              "       [ 28,  61],\n",
              "       [ 29,  31],\n",
              "       [ 29,  87],\n",
              "       [ 30,   4],\n",
              "       [ 30,  73],\n",
              "       [ 33,   4],\n",
              "       [ 33,  92],\n",
              "       [ 33,  14],\n",
              "       [ 33,  81],\n",
              "       [ 34,  17],\n",
              "       [ 34,  73],\n",
              "       [ 37,  26],\n",
              "       [ 37,  75],\n",
              "       [ 38,  35],\n",
              "       [ 38,  92],\n",
              "       [ 39,  36],\n",
              "       [ 39,  61],\n",
              "       [ 39,  28],\n",
              "       [ 39,  65],\n",
              "       [ 40,  55],\n",
              "       [ 40,  47],\n",
              "       [ 40,  42],\n",
              "       [ 40,  42],\n",
              "       [ 42,  52],\n",
              "       [ 42,  60],\n",
              "       [ 43,  54],\n",
              "       [ 43,  60],\n",
              "       [ 43,  45],\n",
              "       [ 43,  41],\n",
              "       [ 44,  50],\n",
              "       [ 44,  46],\n",
              "       [ 46,  51],\n",
              "       [ 46,  46],\n",
              "       [ 46,  56],\n",
              "       [ 46,  55],\n",
              "       [ 47,  52],\n",
              "       [ 47,  59],\n",
              "       [ 48,  51],\n",
              "       [ 48,  59],\n",
              "       [ 48,  50],\n",
              "       [ 48,  48],\n",
              "       [ 48,  59],\n",
              "       [ 48,  47],\n",
              "       [ 49,  55],\n",
              "       [ 49,  42],\n",
              "       [ 50,  49],\n",
              "       [ 50,  56],\n",
              "       [ 54,  47],\n",
              "       [ 54,  54],\n",
              "       [ 54,  53],\n",
              "       [ 54,  48],\n",
              "       [ 54,  52],\n",
              "       [ 54,  42],\n",
              "       [ 54,  51],\n",
              "       [ 54,  55],\n",
              "       [ 54,  41],\n",
              "       [ 54,  44],\n",
              "       [ 54,  57],\n",
              "       [ 54,  46],\n",
              "       [ 57,  58],\n",
              "       [ 57,  55],\n",
              "       [ 58,  60],\n",
              "       [ 58,  46],\n",
              "       [ 59,  55],\n",
              "       [ 59,  41],\n",
              "       [ 60,  49],\n",
              "       [ 60,  40],\n",
              "       [ 60,  42],\n",
              "       [ 60,  52],\n",
              "       [ 60,  47],\n",
              "       [ 60,  50],\n",
              "       [ 61,  42],\n",
              "       [ 61,  49],\n",
              "       [ 62,  41],\n",
              "       [ 62,  48],\n",
              "       [ 62,  59],\n",
              "       [ 62,  55],\n",
              "       [ 62,  56],\n",
              "       [ 62,  42],\n",
              "       [ 63,  50],\n",
              "       [ 63,  46],\n",
              "       [ 63,  43],\n",
              "       [ 63,  48],\n",
              "       [ 63,  52],\n",
              "       [ 63,  54],\n",
              "       [ 64,  42],\n",
              "       [ 64,  46],\n",
              "       [ 65,  48],\n",
              "       [ 65,  50],\n",
              "       [ 65,  43],\n",
              "       [ 65,  59],\n",
              "       [ 67,  43],\n",
              "       [ 67,  57],\n",
              "       [ 67,  56],\n",
              "       [ 67,  40],\n",
              "       [ 69,  58],\n",
              "       [ 69,  91],\n",
              "       [ 70,  29],\n",
              "       [ 70,  77],\n",
              "       [ 71,  35],\n",
              "       [ 71,  95],\n",
              "       [ 71,  11],\n",
              "       [ 71,  75],\n",
              "       [ 71,   9],\n",
              "       [ 71,  75],\n",
              "       [ 72,  34],\n",
              "       [ 72,  71],\n",
              "       [ 73,   5],\n",
              "       [ 73,  88],\n",
              "       [ 73,   7],\n",
              "       [ 73,  73],\n",
              "       [ 74,  10],\n",
              "       [ 74,  72],\n",
              "       [ 75,   5],\n",
              "       [ 75,  93],\n",
              "       [ 76,  40],\n",
              "       [ 76,  87],\n",
              "       [ 77,  12],\n",
              "       [ 77,  97],\n",
              "       [ 77,  36],\n",
              "       [ 77,  74],\n",
              "       [ 78,  22],\n",
              "       [ 78,  90],\n",
              "       [ 78,  17],\n",
              "       [ 78,  88],\n",
              "       [ 78,  20],\n",
              "       [ 78,  76],\n",
              "       [ 78,  16],\n",
              "       [ 78,  89],\n",
              "       [ 78,   1],\n",
              "       [ 78,  78],\n",
              "       [ 78,   1],\n",
              "       [ 78,  73],\n",
              "       [ 79,  35],\n",
              "       [ 79,  83],\n",
              "       [ 81,   5],\n",
              "       [ 81,  93],\n",
              "       [ 85,  26],\n",
              "       [ 85,  75],\n",
              "       [ 86,  20],\n",
              "       [ 86,  95],\n",
              "       [ 87,  27],\n",
              "       [ 87,  63],\n",
              "       [ 87,  13],\n",
              "       [ 87,  75],\n",
              "       [ 87,  10],\n",
              "       [ 87,  92],\n",
              "       [ 88,  13],\n",
              "       [ 88,  86],\n",
              "       [ 88,  15],\n",
              "       [ 88,  69],\n",
              "       [ 93,  14],\n",
              "       [ 93,  90],\n",
              "       [ 97,  32],\n",
              "       [ 97,  86],\n",
              "       [ 98,  15],\n",
              "       [ 98,  88],\n",
              "       [ 99,  39],\n",
              "       [ 99,  97],\n",
              "       [101,  24],\n",
              "       [101,  68],\n",
              "       [103,  17],\n",
              "       [103,  85],\n",
              "       [103,  23],\n",
              "       [103,  69],\n",
              "       [113,   8],\n",
              "       [113,  91],\n",
              "       [120,  16],\n",
              "       [120,  79],\n",
              "       [126,  28],\n",
              "       [126,  74],\n",
              "       [137,  18],\n",
              "       [137,  83]])"
            ]
          },
          "metadata": {
            "tags": []
          },
          "execution_count": 19
        }
      ]
    },
    {
      "cell_type": "code",
      "metadata": {
        "id": "35RAZ-lHTFuH",
        "colab_type": "code",
        "outputId": "b6822efa-17cf-4804-e6b5-6b83e0e7f243",
        "colab": {
          "base_uri": "https://localhost:8080/",
          "height": 295
        }
      },
      "source": [
        "sumOfSquares = []\n",
        "for i in range(1,11):\n",
        "    kmeans = KMeans(n_clusters=i, init='k-means++', max_iter=300, n_init=10, random_state=0)\n",
        "    kmeans.fit(X)\n",
        "    sumOfSquares.append(kmeans.inertia_)\n",
        "plt.plot(range(1,11), sumOfSquares)\n",
        "plt.title(\"The Elbow Method\")\n",
        "plt.xlabel(\"Number of Clusters\")\n",
        "plt.ylabel('Sum of Squares')\n",
        "plt.show()"
      ],
      "execution_count": 0,
      "outputs": [
        {
          "output_type": "display_data",
          "data": {
            "image/png": "[encoded data removed]",
            "text/plain": [
              "<Figure size 432x288 with 1 Axes>"
            ]
          },
          "metadata": {
            "tags": [],
            "needs_background": "light"
          }
        }
      ]
    },
    {
      "cell_type": "code",
      "metadata": {
        "id": "dG13-FddThtZ",
        "colab_type": "code",
        "outputId": "1eab969f-ccf0-4846-89a5-b1a1e4b85cac",
        "colab": {
          "base_uri": "https://localhost:8080/",
          "height": 187
        }
      },
      "source": [
        "kmeans = KMeans(n_clusters=5, init='k-means++', max_iter=300, n_init=10, random_state=0)\n",
        "y_kmeans = kmeans.fit_predict(X)\n",
        "y_kmeans"
      ],
      "execution_count": 0,
      "outputs": [
        {
          "output_type": "execute_result",
          "data": {
            "text/plain": [
              "array([3, 1, 3, 1, 3, 1, 3, 1, 3, 1, 3, 1, 3, 1, 3, 1, 3, 1, 3, 1, 3, 1,\n",
              "       3, 1, 3, 1, 3, 1, 3, 1, 3, 1, 3, 1, 3, 1, 3, 1, 3, 1, 3, 1, 3, 0,\n",
              "       3, 1, 0, 0, 0, 0, 0, 0, 0, 0, 0, 0, 0, 0, 0, 0, 0, 0, 0, 0, 0, 0,\n",
              "       0, 0, 0, 0, 0, 0, 0, 0, 0, 0, 0, 0, 0, 0, 0, 0, 0, 0, 0, 0, 0, 0,\n",
              "       0, 0, 0, 0, 0, 0, 0, 0, 0, 0, 0, 0, 0, 0, 0, 0, 0, 0, 0, 0, 0, 0,\n",
              "       0, 0, 0, 0, 0, 0, 0, 0, 0, 0, 0, 0, 0, 2, 4, 2, 0, 2, 4, 2, 4, 2,\n",
              "       0, 2, 4, 2, 4, 2, 4, 2, 4, 2, 0, 2, 4, 2, 4, 2, 4, 2, 4, 2, 4, 2,\n",
              "       4, 2, 4, 2, 4, 2, 4, 2, 4, 2, 4, 2, 4, 2, 4, 2, 4, 2, 4, 2, 4, 2,\n",
              "       4, 2, 4, 2, 4, 2, 4, 2, 4, 2, 4, 2, 4, 2, 4, 2, 4, 2, 4, 2, 4, 2,\n",
              "       4, 2], dtype=int32)"
            ]
          },
          "metadata": {
            "tags": []
          },
          "execution_count": 21
        }
      ]
    },
    {
      "cell_type": "code",
      "metadata": {
        "id": "ufUE7YJUT0rs",
        "colab_type": "code",
        "outputId": "6ec490c1-0f13-4f5c-ce97-97b625ce4e9d",
        "colab": {
          "base_uri": "https://localhost:8080/",
          "height": 295
        }
      },
      "source": [
        "plt.scatter(X[y_kmeans == 0,0], X[y_kmeans == 0,1], s = 50, c='red', label='Careful', marker='o')\n",
        "plt.scatter(X[y_kmeans == 1,0], X[y_kmeans == 1,1], s = 50, c='blue', label='Standard', marker='^')\n",
        "plt.scatter(X[y_kmeans == 2,0], X[y_kmeans == 2,1], s = 50, c='green', label='Target', marker='s')\n",
        "plt.scatter(X[y_kmeans == 3,0], X[y_kmeans == 3,1], s = 50, c='cyan', label='Careless', marker='p')\n",
        "plt.scatter(X[y_kmeans == 4,0], X[y_kmeans == 4,1], s = 50, c='magenta', label='Sensible', marker='*')\n",
        "plt.scatter(kmeans.cluster_centers_[:, 0], kmeans.cluster_centers_[:, 1], s = 100, c='yellow', label='Centroids')\n",
        "plt.title('Cluster of Clients')\n",
        "plt.xlabel('Annual Income (k$)')\n",
        "plt.ylabel('Spending Score(out of 100)')\n",
        "plt.legend()\n",
        "plt.savefig('clusters.png')\n",
        "plt.show()"
      ],
      "execution_count": 0,
      "outputs": [
        {
          "output_type": "display_data",
          "data": {
            "image/png": "[encoded data removed]",
            "text/plain": [
              "<Figure size 432x288 with 1 Axes>"
            ]
          },
          "metadata": {
            "tags": [],
            "needs_background": "light"
          }
        }
      ]
    }
  ]
}